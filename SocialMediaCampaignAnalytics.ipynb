{
  "cells": [
    {
      "cell_type": "markdown",
      "metadata": {
        "nteract": {
          "transient": {
            "deleting": false
          }
        }
      },
      "source": [
        "<div class=\"alert alert-info\" role=\"alert\">\n",
        "    <center><h1 style=\"color:red;\"><strong><font color = red>Social Media Campaign Analytics:<br>Should we INCREASE our investment in social media marketing?\n",
        "    <br>--or--\n",
        "    <br>The Problem with Sampling</font></strong></h1></center><br>\n",
        "</div>\n",
        "<br><br>\n",
        "\n",
        "`Whenever you deal with a \"sampling\" problem you need to be VERY careful when drawing conclusions.  Think about every election that\n",
        "was predicted to be a landslide, but wasn't.  That's a sampling problem.  Let's look at a marketing example.`\n",
        "\n",
        "## Business Problem \n",
        "\n",
        "You are a business analyst, called to a meeting with your executive team to help with some marketing analytics.  CMO Sheila says,...\n",
        "\n",
        "![](https://raw.githubusercontent.com/davew-msft/PrescriptiveAnalytics/sparkconf/slides/cmo.jpg)\n",
        "\n",
        ">Last quarter was the best quarter in our history.  We crushed Wall Streets earning targets by a wide margin.  I am POSITIVE \n",
        "that the **key reason** was our **revamped digital advertising campaigns**.  Last summer we conducted a **comprehensive** survey \n",
        "of our social media usage at our **mall stores** which I plotted in this **pie chart**:\n",
        "\n",
        "![](https://raw.githubusercontent.com/davew-msft/PrescriptiveAnalytics/sparkconf/slides/pieChart.png)\n",
        "\n",
        "She continues...\n",
        "\n",
        ">You can see from the pie chart that our **Instagram presence is expanding**. 52% of survey respondents said they learned \n",
        "about our company from Instagram. **We should double-down on our Instagram ads** to continue our earnings growth \n",
        "trajectory.\n",
        "\n",
        "### Your CEO is skeptical...\n",
        "\n",
        "...before investing more budget to targeted IG campaigns your CEO asks you to explore the data a bit.  You think it is best to do this\n",
        "as part of a group _Design Thinking_ session where we can interactively look at the data and problem together, hypothesize, and come \n",
        "to a conclusion about _what do we do next?_.  \n",
        "\n",
        ">Half of my marketing dollars are wasted.  The problem is, I don't know which half?  --John Wanamaker\n",
        "\n",
        "<img src=\"https://raw.githubusercontent.com/davew-msft/PrescriptiveAnalytics/sparkconf/slides/jw.jpg\" width=\"50\">\n",
        "\n",
        "## Design Thinking Session\n",
        "\n",
        "You think that it might be a good idea to start by looking at how the survey questions were designed.  The way questions are asked can\n",
        "greatly influence the outcome of a survey.  \n",
        "\n",
        ">There's a whole science behind asking questions in surveys.  Too much to write about here.  \n",
        "\n",
        "Here is the actual survey that was used: \n",
        "\n",
        "![](https://raw.githubusercontent.com/davew-msft/PrescriptiveAnalytics/sparkconf/slides/survey.png)\n",
        "\n",
        "OK.  That's a pretty simple survey.  You also find out that the folks conducting the survey were guessing at the **age range** of the\n",
        "respondents and capturing that information as well.  That's great!  \n",
        "\n",
        "### Possible Issues\n",
        "\n",
        "Your _Design Thinking_ team uncovers some _possible_ issues with this survey _experiment_.  And we build our hypotheses **before \n",
        "looking at the data**.  \n",
        "\n",
        "* There _might_ be **sampling bias**.  You could make the case that the survey is biased towards store customers that are social\n",
        "media users and that might not be reflective of all customers who visit the store.  CMO Sheila does *not* believe the survey was biased.  \n",
        "\n",
        "You ask to see Sheila's data and she relunctantly provides it.  \n",
        "\n",
        "## Exploratory Data Analytics\n",
        "\n",
        "It's time to look at some data.  "
      ]
    },
    {
      "cell_type": "code",
      "execution_count": 2,
      "metadata": {
        "jupyter": {
          "outputs_hidden": false,
          "source_hidden": false
        },
        "nteract": {
          "transient": {
            "deleting": false
          }
        }
      },
      "outputs": [
        {
          "data": {
            "application/vnd.livy.statement-meta+json": {
              "execution_finish_time": "2022-02-18T14:17:38.5314491Z",
              "execution_start_time": "2022-02-18T14:17:38.3835638Z",
              "livy_statement_state": "available",
              "queued_time": "2022-02-18T14:17:38.1954019Z",
              "session_id": 6,
              "session_start_time": null,
              "spark_pool": "SparkPool002",
              "state": "finished",
              "statement_id": 2
            },
            "text/plain": [
              "StatementMeta(SparkPool002, 6, 2, Finished, Available)"
            ]
          },
          "metadata": {},
          "output_type": "display_data"
        }
      ],
      "source": [
        "## my standard spark template\n",
        "## we also load a bunch of packages via requirements.txt\n",
        "\n",
        "from pyspark.sql import SparkSession\n",
        "from pyspark.sql.types import *\n",
        "from pyspark.sql.functions import *\n"
      ]
    },
    {
      "cell_type": "code",
      "execution_count": 3,
      "metadata": {
        "jupyter": {
          "outputs_hidden": false,
          "source_hidden": false
        },
        "nteract": {
          "transient": {
            "deleting": false
          }
        }
      },
      "outputs": [
        {
          "data": {
            "application/vnd.livy.statement-meta+json": {
              "execution_finish_time": "2022-02-18T14:17:38.7630074Z",
              "execution_start_time": "2022-02-18T14:17:38.6241426Z",
              "livy_statement_state": "available",
              "queued_time": "2022-02-18T14:17:38.2403514Z",
              "session_id": 6,
              "session_start_time": null,
              "spark_pool": "SparkPool002",
              "state": "finished",
              "statement_id": 3
            },
            "text/plain": [
              "StatementMeta(SparkPool002, 6, 3, Finished, Available)"
            ]
          },
          "metadata": {},
          "output_type": "display_data"
        }
      ],
      "source": [
        "\n",
        "# This notebook uses synapse.  Make sure you run requirements.txt as part of the Spark cluster setup.  \n",
        "# This notebook assumes you've done that\n",
        "\n",
        "\n",
        "# vars\n",
        "# https://davewdemodata.dfs.core.windows.net/lake/MarketingAnalytics/surveys.csv\n",
        "# let's use a SAS token so this is reproducible for everyone\n",
        "#\n",
        "\n",
        "storageAccount='davewdemodata'\n",
        "container='lake'\n",
        "sasToken='sv=2020-10-02&st=2021-02-17T16%3A26%3A00Z&se=2030-02-18T16%3A26%3A00Z&sr=c&sp=rl&sig=UrdPIPkBQsgvD5pZhKn0KYL0Ziyb8zaXeeLw1fhA68s%3D'\n",
        "lakepath='wasbs://{}@{}.blob.core.windows.net/MarketingAnalytics/surveys.csv'.format(container,storageAccount)\n",
        "\n",
        "sc._jsc.hadoopConfiguration().set(\"fs.azure.sas.{0}.{1}.blob.core.windows.net\".format(container,storageAccount), sasToken)"
      ]
    },
    {
      "cell_type": "code",
      "execution_count": 4,
      "metadata": {
        "jupyter": {
          "outputs_hidden": false,
          "source_hidden": false
        },
        "nteract": {
          "transient": {
            "deleting": false
          }
        }
      },
      "outputs": [
        {
          "data": {
            "application/vnd.livy.statement-meta+json": {
              "execution_finish_time": "2022-02-18T14:17:47.6856993Z",
              "execution_start_time": "2022-02-18T14:17:38.8582855Z",
              "livy_statement_state": "available",
              "queued_time": "2022-02-18T14:17:38.3090286Z",
              "session_id": 6,
              "session_start_time": null,
              "spark_pool": "SparkPool002",
              "state": "finished",
              "statement_id": 4
            },
            "text/plain": [
              "StatementMeta(SparkPool002, 6, 4, Finished, Available)"
            ]
          },
          "metadata": {},
          "output_type": "display_data"
        },
        {
          "name": "stdout",
          "output_type": "stream",
          "text": [
            "+----------------+---------+----------+-----------+--------------------+--------------+----------+\n",
            "|SurveyResponseId|Responded|SurveyDate| SurveyTime|SocialMediaAwareness|SocMedProperty|AgeBracket|\n",
            "+----------------+---------+----------+-----------+--------------------+--------------+----------+\n",
            "|               1|    FALSE| 7/14/2020| 9:13:00 AM|                null|          null|      null|\n",
            "|               2|    FALSE| 7/14/2020|10:13:00 AM|                null|          null|      null|\n",
            "|               3|    FALSE| 7/14/2020|11:13:00 AM|                null|          null|      null|\n",
            "|               4|    FALSE| 7/14/2020|12:13:00 PM|                null|          null|      null|\n",
            "|               5|    FALSE| 7/14/2020| 1:13:00 PM|                null|          null|      null|\n",
            "+----------------+---------+----------+-----------+--------------------+--------------+----------+\n",
            "only showing top 5 rows\n",
            "\n",
            "root\n",
            " |-- SurveyResponseId: string (nullable = true)\n",
            " |-- Responded: string (nullable = true)\n",
            " |-- SurveyDate: string (nullable = true)\n",
            " |-- SurveyTime: string (nullable = true)\n",
            " |-- SocialMediaAwareness: string (nullable = true)\n",
            " |-- SocMedProperty: string (nullable = true)\n",
            " |-- AgeBracket: string (nullable = true)"
          ]
        }
      ],
      "source": [
        "## let's load up the file and take a look\n",
        "dfSurvey = spark.read \\\n",
        "    .option('header','true') \\\n",
        "    .option('delimiter', ',') \\\n",
        "    .csv (lakepath)\n",
        "display(dfSurvey.show(5))\n",
        "dfSurvey.printSchema()\n",
        "dfSurvey.registerTempTable(\"dfSurvey\")"
      ]
    },
    {
      "cell_type": "code",
      "execution_count": 5,
      "metadata": {
        "collapsed": false,
        "jupyter": {
          "outputs_hidden": false,
          "source_hidden": false
        },
        "nteract": {
          "transient": {
            "deleting": false
          }
        }
      },
      "outputs": [
        {
          "data": {
            "application/vnd.livy.statement-meta+json": {
              "execution_finish_time": "2022-02-18T14:17:54.5961242Z",
              "execution_start_time": "2022-02-18T14:17:47.790371Z",
              "livy_statement_state": "available",
              "queued_time": "2022-02-18T14:17:38.3744415Z",
              "session_id": 6,
              "session_start_time": null,
              "spark_pool": "SparkPool002",
              "state": "finished",
              "statement_id": 5
            },
            "text/plain": [
              "StatementMeta(SparkPool002, 6, 5, Finished, Available)"
            ]
          },
          "metadata": {},
          "output_type": "display_data"
        },
        {
          "data": {
            "application/vnd.synapse.widget-view+json": {
              "widget_id": "f26e3799-3bb8-41bf-a8c9-7262b050c7ac",
              "widget_type": "Synapse.DataFrame"
            },
            "text/plain": [
              "SynapseWidget(Synapse.DataFrame, f26e3799-3bb8-41bf-a8c9-7262b050c7ac)"
            ]
          },
          "metadata": {},
          "output_type": "display_data"
        }
      ],
      "source": [
        "## start with summary to do Basic EDA (Exploratory Data Analytics)\n",
        "display (dfSurvey.summary())"
      ]
    },
    {
      "cell_type": "markdown",
      "metadata": {
        "nteract": {
          "transient": {
            "deleting": false
          }
        }
      },
      "source": [
        "### Interpretation\n",
        "\n",
        "![](https://raw.githubusercontent.com/davew-msft/PrescriptiveAnalytics/sparkconf/slides/results01.png)\n",
        "\n",
        "* 363 rows:  this is the total number of surveys.  Is this enough?  \n",
        "* ...but it looks like `Responded` is TRUE/FALSE.  After discussing you learn that there were 363 _attempts_ to get a survey answered\n",
        "* it looks like there is only one `SurveyDate`...that's weird.  \n",
        "\n",
        "Let's dig in with a little SQL\n"
      ]
    },
    {
      "cell_type": "markdown",
      "metadata": {
        "nteract": {
          "transient": {
            "deleting": false
          }
        }
      },
      "source": [
        "## Basic Exploratory Data Analysis"
      ]
    },
    {
      "cell_type": "code",
      "execution_count": 6,
      "metadata": {
        "collapsed": false,
        "jupyter": {
          "outputs_hidden": false,
          "source_hidden": false
        },
        "microsoft": {
          "language": "sparksql"
        },
        "nteract": {
          "transient": {
            "deleting": false
          }
        }
      },
      "outputs": [
        {
          "data": {
            "application/vnd.livy.statement-meta+json": {
              "execution_finish_time": "2022-02-18T14:18:07.2833146Z",
              "execution_start_time": "2022-02-18T14:17:54.7082147Z",
              "livy_statement_state": "available",
              "queued_time": "2022-02-18T14:17:38.4121302Z",
              "session_id": 6,
              "session_start_time": null,
              "spark_pool": "SparkPool002",
              "state": "finished",
              "statement_id": 6
            },
            "text/plain": [
              "StatementMeta(SparkPool002, 6, 6, Finished, Available)"
            ]
          },
          "metadata": {},
          "output_type": "display_data"
        },
        {
          "data": {
            "application/vnd.synapse.sparksql-result+json": {
              "data": [
                [
                  "FALSE",
                  "235"
                ],
                [
                  "TRUE",
                  "128"
                ]
              ],
              "schema": {
                "fields": [
                  {
                    "metadata": {},
                    "name": "Responded",
                    "nullable": true,
                    "type": "string"
                  },
                  {
                    "metadata": {},
                    "name": "Count",
                    "nullable": false,
                    "type": "long"
                  }
                ],
                "type": "struct"
              }
            },
            "text/plain": [
              "<Spark SQL result set with 2 rows and 2 fields>"
            ]
          },
          "execution_count": 6,
          "metadata": {},
          "output_type": "execute_result"
        }
      ],
      "source": [
        "%%sql \n",
        "\n",
        "--number responded vs not\n",
        "--a pie chart might be a good visual here\n",
        "SELECT Responded, count(*) Count\n",
        "from dfSurvey\n",
        "group by Responded"
      ]
    },
    {
      "cell_type": "markdown",
      "metadata": {
        "nteract": {
          "transient": {
            "deleting": false
          }
        }
      },
      "source": [
        "### Interpretation\n",
        "\n",
        "\n",
        "![](https://raw.githubusercontent.com/davew-msft/PrescriptiveAnalytics/sparkconf/slides/results02.png)\n",
        "\n",
        "|||\n",
        "|---|---|\n",
        "|Respondents|128|\n",
        "|People who didn't respond|235|\n",
        "|Total Asked|363|\n",
        "|**Response Rate**|**35%**|\n",
        "\n",
        "**A 35% response rate is not that great.  That's a possible problem.**"
      ]
    },
    {
      "cell_type": "markdown",
      "metadata": {
        "nteract": {
          "transient": {
            "deleting": false
          }
        }
      },
      "source": [
        "## _HOW_ was the survey conducted?  \n",
        "\n",
        "Sheila tells you the survey was conducted just inside the entrance of a single retail store in a California mall location \n",
        "**as the shoppers were leaving the store**. \n",
        "\n",
        "**That's horrible** ...but let's look closer at the data.  \n",
        "\n",
        "_When_ was the survey conducted?  \n",
        "\n",
        "\n",
        "\n"
      ]
    },
    {
      "cell_type": "code",
      "execution_count": 7,
      "metadata": {
        "collapsed": false,
        "jupyter": {
          "outputs_hidden": false,
          "source_hidden": false
        },
        "microsoft": {
          "language": "sparksql"
        },
        "nteract": {
          "transient": {
            "deleting": false
          }
        }
      },
      "outputs": [
        {
          "data": {
            "application/vnd.livy.statement-meta+json": {
              "execution_finish_time": "2022-02-18T14:18:10.4681491Z",
              "execution_start_time": "2022-02-18T14:18:10.4675287Z",
              "livy_statement_state": "available",
              "queued_time": "2022-02-18T14:17:38.4629922Z",
              "session_id": 6,
              "session_start_time": null,
              "spark_pool": null,
              "state": "finished",
              "statement_id": -1
            },
            "text/plain": [
              "StatementMeta(, 6, -1, Finished, Available)"
            ]
          },
          "metadata": {},
          "output_type": "display_data"
        },
        {
          "data": {
            "application/vnd.synapse.sparksql-result+json": {
              "data": [
                [
                  "7/14/2020",
                  "Tuesday"
                ]
              ],
              "schema": {
                "fields": [
                  {
                    "metadata": {},
                    "name": "SurveyDate",
                    "nullable": true,
                    "type": "string"
                  },
                  {
                    "metadata": {},
                    "name": "DayOfWeek",
                    "nullable": true,
                    "type": "string"
                  }
                ],
                "type": "struct"
              }
            },
            "text/plain": [
              "<Spark SQL result set with 1 rows and 2 fields>"
            ]
          },
          "execution_count": 7,
          "metadata": {},
          "output_type": "execute_result"
        },
        {
          "data": {
            "application/vnd.synapse.sparksql-result+json": {
              "data": [
                [
                  "1970-01-01T09:02:00Z",
                  "1970-01-01T16:58:00Z"
                ]
              ],
              "schema": {
                "fields": [
                  {
                    "metadata": {},
                    "name": "MinSurveyTime",
                    "nullable": true,
                    "type": "timestamp"
                  },
                  {
                    "metadata": {},
                    "name": "MaxSurveyTime",
                    "nullable": true,
                    "type": "timestamp"
                  }
                ],
                "type": "struct"
              }
            },
            "text/plain": [
              "<Spark SQL result set with 1 rows and 2 fields>"
            ]
          },
          "execution_count": 7,
          "metadata": {},
          "output_type": "execute_result"
        }
      ],
      "source": [
        "%%sql \n",
        "\n",
        "--dates of surveys\n",
        "SELECT distinct SurveyDate, date_format(to_date(SurveyDate,'MM/dd/yyyy'),'EEEE') AS DayOfWeek\n",
        "from dfSurvey\n",
        "ORDER BY SurveyDate;\n",
        "\n",
        "--time ranges of surveys\n",
        "SELECT \n",
        "    min(to_timestamp(SurveyTime, 'hh:mm:ss aa'))  AS MinSurveyTime,\n",
        "    max(to_timestamp(SurveyTime, 'hh:mm:ss aa'))  AS MaxSurveyTime\n",
        "FROM dfSurvey;"
      ]
    },
    {
      "cell_type": "markdown",
      "metadata": {
        "nteract": {
          "transient": {
            "deleting": false
          }
        }
      },
      "source": [
        "### Interpretation\n",
        "\n",
        "![](https://raw.githubusercontent.com/davew-msft/PrescriptiveAnalytics/sparkconf/slides/results03.png)\n",
        "\n",
        "* Surveys were conducted on a SINGLE day, a Tuesday.  \n",
        "* The surveys were conducted from 9-5 on a summer day.  \n",
        "\n",
        "If we think through this we should see some red flags.  \n",
        "\n",
        "* Based on those times and the fact that this is a summer day, we should see **a lot of children or retired folks** that are not at work that day.  \n",
        "\n",
        "Sheila provides you with this summary:  \n",
        "\n",
        "|Age Bracket|Respondents|\n",
        "|----|----|\n",
        "|12-20|68%|\n",
        "|20-40|15%|\n",
        "|40-65|12%|\n",
        "|65+|5%|\n",
        "\n",
        "...and says...\n",
        "\n",
        ">**83% of the \"Under Age 40\" demographic** are captured in the survey and this closely matches our **target sales demographic**.  \n",
        "\n",
        "But, clearly that is misrepresenting the data.  You know that it's easy to **_confuse_ with numbers** if you aggregate the data in certain ways.  \n",
        "This looks like one of those cases.  While the **'Under Age 40' demographic** is our target consumer, clearly we are heavily **skewed towards children**.  \n",
        "\n",
        "_Our actual target demographic, and the ones that will spend the most, was likely at work when the survey was conducted._\n",
        "\n",
        ">One common way people make **cognitive mistakes** with data is by `inappropriately aggregating data`.  ([Simpson's \n",
        "Paradox](https://en.wikipedia.org/wiki/Simpson%27s_paradox) is one reason).  Be careful!!\n",
        "\n"
      ]
    },
    {
      "cell_type": "markdown",
      "metadata": {
        "nteract": {
          "transient": {
            "deleting": false
          }
        }
      },
      "source": [
        "## Interpretation\n",
        "\n",
        "\n",
        "Remember this chart supplied by your CMO?\n",
        "\n",
        "![](https://raw.githubusercontent.com/davew-msft/PrescriptiveAnalytics/sparkconf/slides/pieChart.png)\n",
        "\n",
        "We think a better way to display this data is:\n",
        "\n",
        "|||\n",
        "|---|---|\n",
        "||%Respondents|\n",
        "|All Social Media|43%|\n",
        "|Instagram|22%|\n",
        "|Facebook|9%|\n",
        "\n",
        "This is a much different way to think about this data.  There are other \"issues\" with this survey and data analysis, but I'll leave that as an exercise for the \n",
        "reader.  \n",
        "\n",
        "## Recommendation\n",
        "\n",
        "**The data does not support additional investments in Instagram**. If we follow the CMO's recommendation we should be aware that we will be potentially be targeting\n",
        "the wrong demographic.  \n",
        "\n",
        " We need to design a better experiment taking the above recommendations into consideration.\n",
        "   * The survey design is fundamentally flawed\n",
        "   * There is statistical bias in the data\n",
        "   * There is sampling bias in the data\n",
        "\n"
      ]
    }
  ],
  "metadata": {
    "kernel_info": {
      "name": "synapse_pyspark"
    },
    "kernelspec": {
      "display_name": "Synapse PySpark",
      "language": "Python",
      "name": "synapse_pyspark"
    },
    "language_info": {
      "name": "python"
    },
    "save_output": true,
    "synapse_widget": {
      "state": {
        "f26e3799-3bb8-41bf-a8c9-7262b050c7ac": {
          "persist_state": {
            "view": {
              "chartOptions": {
                "aggregationType": "count",
                "categoryFieldKeys": [
                  "0"
                ],
                "chartType": "bar",
                "isStacked": false,
                "seriesFieldKeys": [
                  "0"
                ]
              },
              "tableOptions": {},
              "type": "details"
            }
          },
          "sync_state": {
            "isSummary": false,
            "language": "scala",
            "table": {
              "rows": [
                {
                  "0": "count",
                  "1": "363",
                  "2": "363",
                  "3": "363",
                  "4": "363",
                  "5": "128",
                  "6": "79",
                  "7": "128"
                },
                {
                  "0": "mean",
                  "1": "182.0"
                },
                {
                  "0": "stddev",
                  "1": "104.93331215586402"
                },
                {
                  "0": "min",
                  "1": "1",
                  "2": "FALSE",
                  "3": "7/14/2020",
                  "4": "10:01:00 AM",
                  "5": "FALSE",
                  "6": "Facebook",
                  "7": "20-40"
                },
                {
                  "0": "25%",
                  "1": "91.0"
                },
                {
                  "0": "50%",
                  "1": "182.0"
                },
                {
                  "0": "75%",
                  "1": "273.0"
                },
                {
                  "0": "max",
                  "1": "99",
                  "2": "TRUE",
                  "3": "7/14/2020",
                  "4": "9:57:00 AM",
                  "5": "TRUE",
                  "6": "Twitter",
                  "7": "65+"
                }
              ],
              "schema": [
                {
                  "key": "0",
                  "name": "summary",
                  "type": "string"
                },
                {
                  "key": "1",
                  "name": "SurveyResponseId",
                  "type": "string"
                },
                {
                  "key": "2",
                  "name": "Responded",
                  "type": "string"
                },
                {
                  "key": "3",
                  "name": "SurveyDate",
                  "type": "string"
                },
                {
                  "key": "4",
                  "name": "SurveyTime",
                  "type": "string"
                },
                {
                  "key": "5",
                  "name": "SocialMediaAwareness",
                  "type": "string"
                },
                {
                  "key": "6",
                  "name": "SocMedProperty",
                  "type": "string"
                },
                {
                  "key": "7",
                  "name": "AgeBracket",
                  "type": "string"
                }
              ],
              "truncated": false
            }
          },
          "type": "Synapse.DataFrame"
        }
      },
      "version": "0.1"
    }
  },
  "nbformat": 4,
  "nbformat_minor": 2
}
